{
 "cells": [
  {
   "cell_type": "code",
   "execution_count": 1,
   "metadata": {},
   "outputs": [],
   "source": [
    "import requests\n",
    "from bs4 import BeautifulSoup\n",
    "import pandas as pd\n",
    "from fake_useragent import UserAgent\n",
    "import datetime\n",
    "import time\n",
    "import random\n",
    "from sqlalchemy import create_engine\n",
    "import mysql.connector\n"
   ]
  },
  {
   "cell_type": "code",
   "execution_count": 2,
   "metadata": {},
   "outputs": [],
   "source": [
    "ua = UserAgent()\n",
    "headers = {\"User-Agent\":ua.random}"
   ]
  },
  {
   "cell_type": "code",
   "execution_count": 14,
   "metadata": {
    "scrolled": false
   },
   "outputs": [],
   "source": [
    "url = \"https://isin.twse.com.tw/isin/C_public.jsp?strMode=2\"\n",
    "res = requests.get(url,headers=headers)\n",
    "soup = BeautifulSoup(res.text,'html.parser')\n",
    "table = soup.find(\"table\",class_=\"h4\")\n",
    "stock_list = []\n",
    "\n",
    "for tr in table.find_all(\"tr\")[2:]:\n",
    "    try:\n",
    "        storage = tr.find(\"td\").text.split(\"\\u3000\",1)\n",
    "        stock_number = int(storage[0])\n",
    "        stock_name = storage[1]\n",
    "\n",
    "        stock_createdate = tr.find_all(\"td\")[2].text\n",
    "\n",
    "        stock_class = tr.find_all(\"td\")[3].text\n",
    "        stock_type = tr.find_all(\"td\")[4].text\n",
    "\n",
    "        stock_dict = {\n",
    "            \"stock_number\":stock_number,\n",
    "            \"stock_name\":stock_name,\n",
    "            \"stock_createdate\":stock_createdate,\n",
    "            \"stock_class\":stock_class,\n",
    "            \"stock_type\":stock_type\n",
    "        }\n",
    "\n",
    "        stock_list.append(stock_dict)\n",
    "    \n",
    "    except IndexError:\n",
    "        pass\n",
    "    except ValueError:\n",
    "        break\n",
    "\n",
    "stock_df = pd.DataFrame(stock_list,columns = [\"stock_number\",\"stock_name\",\"stock_class\",\"stock_type\",\"stock_createdate\"])\n",
    "    \n"
   ]
  },
  {
   "cell_type": "code",
   "execution_count": 26,
   "metadata": {},
   "outputs": [],
   "source": [
    "#連結資料庫\n",
    "#範本解釋:create_engine('mysql+mysql_driver://mysql帳號:mysql密碼@機器ip:mysql_port/DB名稱?其他參數', encoding='mysql編碼'\n",
    "#charset=utf8 資料庫編碼\n",
    "\n",
    "user = \"root\"\n",
    "passwd = \"IqWYF(TD2020\"\n",
    "ip = \"192.168.56.112:3306\"\n",
    "db_name = \"Stock\"\n",
    "table_name = \"Stock_information\"\n",
    "\n",
    "engine = create_engine('mysql+mysqlconnector://'+ user +':'+ passwd +'@'+ip+'/'+ db_name +'?charset=utf8', encoding='utf-8')\n",
    "con = engine.connect() #建立連結\n",
    "\n",
    "for item in stock_list:\n",
    "    df = pd.DataFrame(item, index=[0])\n",
    "\n",
    "    try:\n",
    "        df.to_sql(table_name,con=con,if_exists='append', index=False) #假設table已存在 就自動往下加入data\n",
    "        \n",
    "    except Exception as e:\n",
    "        if 'PRIMARY' in str(e):\n",
    "            pass\n",
    "        \n",
    "con.close() \n",
    "engine.dispose() "
   ]
  },
  {
   "cell_type": "code",
   "execution_count": null,
   "metadata": {},
   "outputs": [],
   "source": []
  }
 ],
 "metadata": {
  "kernelspec": {
   "display_name": "Python 3",
   "language": "python",
   "name": "python3"
  },
  "language_info": {
   "codemirror_mode": {
    "name": "ipython",
    "version": 3
   },
   "file_extension": ".py",
   "mimetype": "text/x-python",
   "name": "python",
   "nbconvert_exporter": "python",
   "pygments_lexer": "ipython3",
   "version": "3.7.4"
  }
 },
 "nbformat": 4,
 "nbformat_minor": 2
}
