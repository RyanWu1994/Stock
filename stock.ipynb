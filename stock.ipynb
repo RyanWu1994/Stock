{
 "cells": [
  {
   "cell_type": "code",
   "execution_count": 3,
   "metadata": {},
   "outputs": [],
   "source": [
    "# 六派神見選股法"
   ]
  },
  {
   "cell_type": "code",
   "execution_count": 3,
   "metadata": {},
   "outputs": [],
   "source": [
    "import json\n",
    "import requests\n",
    "import pandas as pd\n",
    "import sys\n"
   ]
  },
  {
   "cell_type": "code",
   "execution_count": 36,
   "metadata": {},
   "outputs": [],
   "source": [
    "url = \"https://www.twse.com.tw/exchangeReport/STOCK_DAY?response=json&date=20200617&stockNo=2330&_=1592394271327\"\n",
    "\n",
    "res = requests.get(url)\n",
    "json_stock = json.loads(res.content)"
   ]
  },
  {
   "cell_type": "code",
   "execution_count": 44,
   "metadata": {
    "scrolled": true
   },
   "outputs": [
    {
     "name": "stdout",
     "output_type": "stream",
     "text": [
      "109/06/01\n",
      "37,936,214\n",
      "--------------\n",
      "109/06/02\n",
      "26,663,587\n",
      "--------------\n",
      "109/06/03\n",
      "67,894,337\n",
      "--------------\n",
      "109/06/04\n",
      "47,225,322\n",
      "--------------\n",
      "109/06/05\n",
      "44,077,262\n",
      "--------------\n",
      "109/06/08\n",
      "52,042,921\n",
      "--------------\n",
      "109/06/09\n",
      "37,068,082\n",
      "--------------\n",
      "109/06/10\n",
      "42,207,259\n",
      "--------------\n",
      "109/06/11\n",
      "50,612,255\n",
      "--------------\n",
      "109/06/12\n",
      "46,970,918\n",
      "--------------\n",
      "109/06/15\n",
      "51,032,404\n",
      "--------------\n",
      "109/06/16\n",
      "40,725,216\n",
      "--------------\n",
      "109/06/17\n",
      "34,692,968\n",
      "--------------\n"
     ]
    }
   ],
   "source": [
    "for i in range(len(json_stock[\"data\"])):\n",
    "    print(json_stock[\"data\"][i][0])\n",
    "    print(json_stock[\"data\"][i][1])\n",
    "    print(\"--------------\")"
   ]
  },
  {
   "cell_type": "code",
   "execution_count": null,
   "metadata": {},
   "outputs": [],
   "source": []
  },
  {
   "cell_type": "code",
   "execution_count": null,
   "metadata": {},
   "outputs": [],
   "source": []
  },
  {
   "cell_type": "code",
   "execution_count": null,
   "metadata": {},
   "outputs": [],
   "source": []
  },
  {
   "cell_type": "code",
   "execution_count": null,
   "metadata": {},
   "outputs": [],
   "source": []
  }
 ],
 "metadata": {
  "kernelspec": {
   "display_name": "Python 3",
   "language": "python",
   "name": "python3"
  },
  "language_info": {
   "codemirror_mode": {
    "name": "ipython",
    "version": 3
   },
   "file_extension": ".py",
   "mimetype": "text/x-python",
   "name": "python",
   "nbconvert_exporter": "python",
   "pygments_lexer": "ipython3",
   "version": "3.6.9"
  }
 },
 "nbformat": 4,
 "nbformat_minor": 2
}
