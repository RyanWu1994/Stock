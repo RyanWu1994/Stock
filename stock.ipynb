{
 "cells": [
  {
   "cell_type": "code",
   "execution_count": null,
   "metadata": {},
   "outputs": [],
   "source": [
    "# GET stock data"
   ]
  },
  {
   "cell_type": "code",
   "execution_count": 1,
   "metadata": {},
   "outputs": [],
   "source": [
    "import json\n",
    "import requests\n",
    "import pandas as pd\n",
    "import time\n",
    "from fake_useragent import UserAgent\n",
    "from datetime import datetime\n",
    "from sqlalchemy import create_engine\n",
    "from collections import Counter\n",
    "import mysql.connector\n",
    "import setting"
   ]
  },
  {
   "cell_type": "code",
   "execution_count": null,
   "metadata": {},
   "outputs": [],
   "source": [
    "def mysql_to_df():\n",
    "    mydb = mysql.connector.connect(\n",
    "            host=\"192.168.22.110\",\n",
    "            user=\"root\",\n",
    "            passwd=\"Pn123456\",\n",
    "            database=\"Stock\"\n",
    "    )\n",
    "\n",
    "    mycursor = mydb.cursor()\n",
    "    mycursor.execute(\"SELECT * FROM stock_list\")\n",
    "    myresult = mycursor.fetchall()\n",
    "    df = pd.DataFrame(myresult,columns=[\"stock_number\",\"stock_name\",\"stock_createdate\",\"stock_class\",\"stock_type\"])\n",
    "    \n",
    "    mycursor.close()\n",
    "    mydb.close()\n",
    "    \n",
    "    return df\n"
   ]
  },
  {
   "cell_type": "code",
   "execution_count": null,
   "metadata": {},
   "outputs": [],
   "source": [
    "df = mysql_to_df()\n",
    "stock_list = []\n",
    "for i in df[\"stock_number\"]:\n",
    "    stock_list.append(str(i))"
   ]
  },
  {
   "cell_type": "code",
   "execution_count": null,
   "metadata": {},
   "outputs": [],
   "source": [
    "count = 0\n",
    "for stock in stock_list:\n",
    "    for m in range(1,7):\n",
    "        local_date = \"20200\"+str(m)+\"01\"\n",
    "        timestamp = str(int(time.time()))\n",
    "        url = \"https://www.twse.com.tw/exchangeReport/STOCK_DAY?response=json&date=\"+local_date+\"&stockNo=\"+stock+\"&_=\" +timestamp\n",
    "        result_list = Get_stock_data(url)\n",
    "#         List_to_mysql(user=user,passwd=passwd,ip=ip,db_name=db_name,table_name=table_name,result_list=result_list)\n",
    "        count += 1\n",
    "        print(\"股票代號: \",stock,\"月份: \",local_date,\"請求次數: \",count)\n",
    "        \n",
    "        time.sleep(3)\n",
    "        \n"
   ]
  },
  {
   "cell_type": "code",
   "execution_count": null,
   "metadata": {},
   "outputs": [],
   "source": []
  },
  {
   "cell_type": "code",
   "execution_count": null,
   "metadata": {},
   "outputs": [],
   "source": [
    "\n",
    "# stock = \"2330\"\n",
    "# # local_date = datetime.now().strftime('%Y%m%d')\n",
    "# local_date = \"20200101\"\n",
    "# timestamp = str(int(time.time()))\n",
    "# url = \"https://www.twse.com.tw/exchangeReport/STOCK_DAY?response=json&date=\"+local_date+\"&stockNo=\"+stock+\"&_=\" +timestamp\n"
   ]
  },
  {
   "cell_type": "code",
   "execution_count": null,
   "metadata": {},
   "outputs": [],
   "source": [
    "def transform_date(date):\n",
    "        y, m, d = date.split('/')\n",
    "        return str(int(y)+1911) + '/' + m  + '/' + d"
   ]
  },
  {
   "cell_type": "code",
   "execution_count": null,
   "metadata": {},
   "outputs": [],
   "source": [
    "def Get_stock_data(url):\n",
    "    \n",
    "    ua = UserAgent()\n",
    "    headers = {\"User-Agent\":ua.random}\n",
    "    res = requests.get(url,headers=headers,timeout=10.0)\n",
    "    json_stock = json.loads(res.content)\n",
    "    print(\"status_code: \",res.status_code)\n",
    "    result = []\n",
    "    \n",
    "    for i in range(len(json_stock[\"data\"])):\n",
    "        Date = datetime.strptime(transform_date(json_stock[\"data\"][i][0]),\"%Y/%m/%d\")\n",
    "        Transaction_count = int(json_stock[\"data\"][i][1].replace(\",\",\"\"))\n",
    "        Transaction_amount = int(json_stock[\"data\"][i][2].replace(\",\",\"\"))\n",
    "        Opening_price = float(json_stock[\"data\"][i][3])\n",
    "        Highest_price = float(json_stock[\"data\"][i][4])\n",
    "        Lowest_price = float(json_stock[\"data\"][i][5])\n",
    "        Closing_price = float(json_stock[\"data\"][i][6])\n",
    "\n",
    "        if json_stock[\"data\"][i][7] == \"X0.00\":\n",
    "            Price_spread = 0.00\n",
    "        else:\n",
    "            Price_spread = float(json_stock[\"data\"][i][7])\n",
    "\n",
    "        Number_of_transactions = int(json_stock[\"data\"][i][8].replace(\",\",\"\"))\n",
    "\n",
    "        dict_result = {\n",
    "            \"Number\":str(stock),\n",
    "            \"Date\":Date,\n",
    "            \"Transaction_count\":Transaction_count,\n",
    "            \"Transaction_amount\":Transaction_amount,\n",
    "            \"Opening_price\":Opening_price,\n",
    "            \"Highest_price\":Highest_price,\n",
    "            \"Lowest_price\":Lowest_price,\n",
    "            \"Closing_price\":Closing_price,\n",
    "            \"Price_spread\":Price_spread,\n",
    "            \"Number_of_transactions\":Number_of_transactions\n",
    "\n",
    "        }\n",
    "\n",
    "        result.append(dict_result)\n",
    "        \n",
    "    return result\n"
   ]
  },
  {
   "cell_type": "code",
   "execution_count": null,
   "metadata": {
    "scrolled": true
   },
   "outputs": [],
   "source": [
    "user = \"root\"\n",
    "passwd = \"Pn123456\"\n",
    "ip = \"192.168.22.110:3306\"\n",
    "db_name = \"Stock\"\n",
    "table_name = \"Stock_data\"\n",
    "\n",
    "def List_to_mysql(user,passwd,ip,db_name,table_name,result_list):\n",
    "\n",
    "    engine = create_engine('mysql+mysqlconnector://'+ user +':'+ passwd +'@'+ip+'/'+ db_name +'?charset=utf8', encoding='utf-8')\n",
    "    con = engine.connect()\n",
    "    \n",
    "    for item in result_list:\n",
    "        df = pd.DataFrame(item, index=[0])\n",
    "        try:\n",
    "            df.to_sql(name=table_name,con=con,if_exists='append',index=False)\n",
    "\n",
    "        except Exception as e:\n",
    "            if 'PRIMARY' in str(e):\n",
    "                pass\n",
    "\n",
    "    con.close() \n",
    "    engine.dispose()"
   ]
  },
  {
   "cell_type": "code",
   "execution_count": null,
   "metadata": {},
   "outputs": [],
   "source": [
    "result_list = Get_stock_data(url)\n",
    "List_to_mysql(user=user,passwd=passwd,ip=ip,db_name=db_name,table_name=table_name,result_list=result_list)"
   ]
  },
  {
   "cell_type": "code",
   "execution_count": null,
   "metadata": {},
   "outputs": [],
   "source": [
    "# df = mysql_to_df()\n",
    "# stock_number_list = []\n",
    "# for i in df[\"stock_number\"]:\n",
    "#     stock_number_list.append(i)"
   ]
  },
  {
   "cell_type": "code",
   "execution_count": null,
   "metadata": {},
   "outputs": [],
   "source": []
  },
  {
   "cell_type": "code",
   "execution_count": null,
   "metadata": {},
   "outputs": [],
   "source": [
    "'''\n",
    "CREATE TABLE IF NOT EXISTS `Stock_data` (\n",
    "    `Number` CHAR(20) NOT NULL,\n",
    "    `Date` DATE NOT NULL,\n",
    "    `Transaction_count` INT NOT NULL,\n",
    "    `Transaction_amount` INT NOT NULL,\n",
    "    `Opening_price` FLOAT NOT NULL,\n",
    "    `Highest_price` FLOAT NOT NULL,\n",
    "    `Lowest_price` FLOAT NOT NULL,\n",
    "    `Closing_price` FLOAT NOT NULL,\n",
    "    `Price_spread` CHAR(10) NULL DEFAULT NULL,\n",
    "    `Number_of_transactions` INT NOT NULL,\n",
    "    PRIMARY KEY (`Number`, `Date`)\n",
    ")\n",
    "COLLATE='latin1_swedish_ci';\n",
    "\n",
    "'''"
   ]
  },
  {
   "cell_type": "code",
   "execution_count": null,
   "metadata": {},
   "outputs": [],
   "source": [
    "res = requests.get(url)\n"
   ]
  },
  {
   "cell_type": "code",
   "execution_count": null,
   "metadata": {},
   "outputs": [],
   "source": [
    "if res.status_code == requests.codes.ok:\n",
    "    print(\"OK\")"
   ]
  },
  {
   "cell_type": "code",
   "execution_count": null,
   "metadata": {},
   "outputs": [],
   "source": []
  },
  {
   "cell_type": "code",
   "execution_count": null,
   "metadata": {},
   "outputs": [],
   "source": []
  }
 ],
 "metadata": {
  "kernelspec": {
   "display_name": "Python 3",
   "language": "python",
   "name": "python3"
  },
  "language_info": {
   "codemirror_mode": {
    "name": "ipython",
    "version": 3
   },
   "file_extension": ".py",
   "mimetype": "text/x-python",
   "name": "python",
   "nbconvert_exporter": "python",
   "pygments_lexer": "ipython3",
   "version": "3.6.9"
  }
 },
 "nbformat": 4,
 "nbformat_minor": 2
}
