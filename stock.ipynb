{
 "cells": [
  {
   "cell_type": "code",
   "execution_count": 1,
   "metadata": {},
   "outputs": [],
   "source": [
    "import twstock\n",
    "import matplotlib.pyplot as plt\n",
    "import pandas as pd\n"
   ]
  },
  {
   "cell_type": "code",
   "execution_count": null,
   "metadata": {},
   "outputs": [],
   "source": [
    "stock = twstock.Stock('1101')\n",
    "bfp = twstock.BestFourPoint(stock)\n",
    "bfp.best_four_point_to_buy() \n",
    "bfp.best_four_point_to_sell() \n",
    "bfp.best_four_point()"
   ]
  },
  {
   "cell_type": "code",
   "execution_count": null,
   "metadata": {},
   "outputs": [],
   "source": [
    "stock1 = twstock.realtime.get('2330')\n",
    "stock1['success']"
   ]
  },
  {
   "cell_type": "code",
   "execution_count": null,
   "metadata": {},
   "outputs": [],
   "source": [
    "\n",
    "# 這是抓取歷史資料\n",
    "stock_6207 = twstock.Stock('6207')\n",
    "\n",
    "price_6207 = stock_6207.price[-5:]       # 近五日之收盤價\n",
    "high_6207 = stock_6207.high[-5:]         # 近五日之盤中高點\n",
    "low_6207 = stock_6207.low[-5:]           # 近五日之盤中低點\n",
    "date_6207 = stock_6207.date[-5:]         # 近五日的日期\n",
    "\n",
    "print('price_6207--->', price_6207)\n",
    "print('high_6207--->', high_6207)\n",
    "print('low_6207--->', low_6207)\n",
    "print('date_6207--->', date_6207)\n",
    "\n",
    "stock_6207_2018 = stock_6207.fetch_from(2018,1)     # 獲取 2018 年 01 月至今日之股票資料\n",
    "stock_6207_2018_pd = pd.DataFrame(stock_6207_2018)\n",
    "stock_6207_2018_pd = stock_6207_2018_pd.set_index('date')\n",
    "\n",
    "\n",
    "fig = plt.figure(figsize=(10, 6))\n",
    "plt.plot(stock_6207_2018_pd.close, '-' , label=\"收盤價\")\n",
    "plt.plot(stock_6207_2018_pd.open, '-' , label=\"開盤價\")\n",
    "plt.title('雷科股份2018 開盤/收盤價曲線',loc='right')\n",
    "# loc->title的位置\n",
    "plt.xlabel('日期')\n",
    "plt.ylabel('收盤價')\n",
    "plt.grid(True, axis='y')\n",
    "plt.legend()\n",
    "# fig.savefig('day20_01.png')\n",
    "plt.show()"
   ]
  },
  {
   "cell_type": "code",
   "execution_count": 2,
   "metadata": {},
   "outputs": [],
   "source": [
    "stock = twstock.Stock(\"2330\")"
   ]
  },
  {
   "cell_type": "code",
   "execution_count": null,
   "metadata": {},
   "outputs": [],
   "source": []
  },
  {
   "cell_type": "code",
   "execution_count": null,
   "metadata": {},
   "outputs": [],
   "source": []
  }
 ],
 "metadata": {
  "kernelspec": {
   "display_name": "Python 3",
   "language": "python",
   "name": "python3"
  },
  "language_info": {
   "codemirror_mode": {
    "name": "ipython",
    "version": 3
   },
   "file_extension": ".py",
   "mimetype": "text/x-python",
   "name": "python",
   "nbconvert_exporter": "python",
   "pygments_lexer": "ipython3",
   "version": "3.7.4"
  }
 },
 "nbformat": 4,
 "nbformat_minor": 2
}
